{
 "cells": [
  {
   "cell_type": "code",
   "execution_count": 53,
   "id": "47750383-cee8-4ddc-be9c-3e9dc8bf7d2b",
   "metadata": {},
   "outputs": [],
   "source": [
    "class LinkedStack:\n",
    "    \"\"\"LIFO Stack Implementation using a singly linked list\"\"\"\n",
    "    \n",
    "    #++++++++++++++++++++ Nested Node Class ++++++++++++++++++++++++\n",
    "    class _Node:\n",
    "        __slots__ = '_element', '_next'\n",
    "\n",
    "        def __init__(self, element, next):\n",
    "            self._element = element\n",
    "            self._next = next\n",
    "\n",
    "    #--------------- Stack Methods -------------\n",
    "\n",
    "    def __init__(self):\n",
    "        \"\"\"Create an empty stack\"\"\"\n",
    "        self._head = None  # Corrected to use _head consistently\n",
    "        self._size = 0\n",
    "\n",
    "    def __len__(self):\n",
    "        \"\"\"Return the number of elements in the stack\"\"\"\n",
    "        return self._size\n",
    "\n",
    "    def is_empty(self):\n",
    "        \"\"\"Check if the stack is empty\"\"\"\n",
    "        return self._size == 0\n",
    "\n",
    "    def push(self, e):\n",
    "        \"\"\"Push an element onto the stack\"\"\"\n",
    "        self._head = self._Node(e, self._head)  # New node is created and added to the front\n",
    "        self._size += 1\n",
    "\n",
    "    def top(self):\n",
    "        \"\"\"Return (but not remove) the element at the top of the stack\"\"\"\n",
    "        if self.is_empty():\n",
    "            raise IndexError('Stack is empty <3')  # Changed to IndexError or define a custom Empty exception\n",
    "\n",
    "        return self._head._element\n",
    "\n",
    "    def pop(self):\n",
    "        \"\"\"Remove and return the element from the top of the stack\"\"\"\n",
    "        if self.is_empty():\n",
    "            raise IndexError('Stack is empty <3')  # Check if the stack is empty before popping\n",
    "\n",
    "        data = self._head._element\n",
    "        self._head = self._head._next  # Move head to the next node\n",
    "        self._size -= 1  # Decrease the size of the stack\n",
    "        return data\n"
   ]
  },
  {
   "cell_type": "code",
   "execution_count": 66,
   "id": "4d4fe20c-854c-42f1-b6e2-25490c6ba7d2",
   "metadata": {},
   "outputs": [],
   "source": [
    "stack = LinkedStack() #Works!"
   ]
  },
  {
   "cell_type": "code",
   "execution_count": 75,
   "id": "29fc0464-1b3b-4396-ae44-d41f3a1d72ef",
   "metadata": {},
   "outputs": [],
   "source": [
    "class LinkedQueue:\n",
    "    \"\"\"FiFo implementation using a Linked List for storage\"\"\"\n",
    "\n",
    "    class _Node:\n",
    "        \"\"\"Lightweight non-public class for storing a singly linked list\"\"\"\n",
    "        __slots__ = '_element', '_next'\n",
    "\n",
    "        def __init__(self, element, next):\n",
    "            self._element = element\n",
    "            self._next = next\n",
    "\n",
    "\n",
    "    #___________Queue____________\n",
    "    def __init__(self):\n",
    "        self._head = None\n",
    "        self._tail = None\n",
    "        self._size = 0\n",
    "\n",
    "\n",
    "    def __len__(self):\n",
    "        return self._size\n",
    "\n",
    "\n",
    "    def is_empty(self):\n",
    "        return self._size ==0\n",
    "\n",
    "    def first(self):\n",
    "        \"\"\"Return (But no removal) an element at the first of the queue\"\"\"\n",
    "\n",
    "        if self.is_empty():\n",
    "            raise IndexError(\"Queue has no elements :<\")\n",
    "\n",
    "        return self._head._element\n",
    "\n",
    "    def dequeue(self):\n",
    "        \"\"\" Remove the first element of the queue and return an exception if the queue is empty\"\"\"\n",
    "        if self.is_empty():\n",
    "            raise IndexError\n",
    "        answer = self._head._element\n",
    "        self._head = self._head._next\n",
    "        self._size -=1\n",
    "\n",
    "        if self.is_empty():\n",
    "            self._tail=None #The case where the last element might have been removed.\n",
    "\n",
    "        return answer\n",
    "\n",
    "    def enqueue(self, e):\n",
    "        \"\"\"Add an element at the end of the queue\"\"\"\n",
    "        newest = self._Node(e, None)\n",
    "\n",
    "        if self.is_empty():\n",
    "            self._head = newest #Special case, if the queue had been previously empty.\n",
    "        else:\n",
    "            self._tail._next = newest\n",
    "        self._tail = newest #1. I created a new element > assigned the prev tail's next to that element. Assigned the tail variable to this element.\n",
    "        size+=1\n",
    "\n",
    "#Where is the contract between the _Node class and the LinkedQueue class?\n",
    "#> there is only one way when you can add elements to the queue: that would be the enqueue method. and you can see in that method, that the new element that you create is of type Node, hence, each element that you add is of node class.\n",
    "            "
   ]
  },
  {
   "cell_type": "code",
   "execution_count": 76,
   "id": "1ed6d22f-49e2-4cb5-b071-77c1c59a927d",
   "metadata": {},
   "outputs": [],
   "source": [
    "q= LinkedQueue()"
   ]
  },
  {
   "cell_type": "code",
   "execution_count": 77,
   "id": "950c1567-9f45-4be9-ac94-148464c761b7",
   "metadata": {},
   "outputs": [
    {
     "data": {
      "text/plain": [
       "True"
      ]
     },
     "execution_count": 77,
     "metadata": {},
     "output_type": "execute_result"
    }
   ],
   "source": [
    "q.is_empty()"
   ]
  },
  {
   "cell_type": "code",
   "execution_count": null,
   "id": "34a3c852-ca44-434b-9345-a4fb11fd8621",
   "metadata": {},
   "outputs": [],
   "source": []
  }
 ],
 "metadata": {
  "kernelspec": {
   "display_name": "Python (sanity",
   "language": "python",
   "name": "sanity"
  },
  "language_info": {
   "codemirror_mode": {
    "name": "ipython",
    "version": 3
   },
   "file_extension": ".py",
   "mimetype": "text/x-python",
   "name": "python",
   "nbconvert_exporter": "python",
   "pygments_lexer": "ipython3",
   "version": "3.10.13"
  }
 },
 "nbformat": 4,
 "nbformat_minor": 5
}
